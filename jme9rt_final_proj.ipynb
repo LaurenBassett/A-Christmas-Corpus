{
 "cells": [
  {
   "cell_type": "markdown",
   "metadata": {},
   "source": [
    "# Lauren Bassett \n",
    "# jme9rt \n",
    "# DS5001 Final Project  "
   ]
  },
  {
   "cell_type": "markdown",
   "metadata": {},
   "source": [
    "*The goal of your final project is to apply and integrate what you have learned in this course to\n",
    "create ​a digital critical edition of a corpus​ that will support exploration of the cultural contents of\n",
    "that corpus. Cultural content is broadly conceived​—it may be about language use, social events,\n",
    "cultural categories, sentiments, identity, taste, etc.*"
   ]
  },
  {
   "cell_type": "markdown",
   "metadata": {},
   "source": [
    "## Part 0: Import Statements/Reading in Files"
   ]
  },
  {
   "cell_type": "code",
   "execution_count": 1,
   "metadata": {},
   "outputs": [
    {
     "name": "stderr",
     "output_type": "stream",
     "text": [
      "[nltk_data] Downloading package punkt to\n",
      "[nltk_data]     C:\\Users\\laure\\AppData\\Roaming\\nltk_data...\n",
      "[nltk_data]   Package punkt is already up-to-date!\n",
      "[nltk_data] Downloading package averaged_perceptron_tagger to\n",
      "[nltk_data]     C:\\Users\\laure\\AppData\\Roaming\\nltk_data...\n",
      "[nltk_data]   Package averaged_perceptron_tagger is already up-to-\n",
      "[nltk_data]       date!\n",
      "[nltk_data] Downloading package stopwords to\n",
      "[nltk_data]     C:\\Users\\laure\\AppData\\Roaming\\nltk_data...\n",
      "[nltk_data]   Package stopwords is already up-to-date!\n"
     ]
    }
   ],
   "source": [
    "import pandas as pd \n",
    "import numpy as np\n",
    "%matplotlib inline\n",
    "import re\n",
    "from glob import glob\n",
    "import re\n",
    "import nltk\n",
    "\n",
    "nltk.download('punkt')\n",
    "nltk.download('averaged_perceptron_tagger')\n",
    "nltk.download('stopwords')\n",
    "xmas_carol_text = 'christmas-carol.txt'\n",
    "OHCO = ['title', 'chap_num', 'para_num', 'sent_num', 'token_num']"
   ]
  },
  {
   "cell_type": "markdown",
   "metadata": {},
   "source": [
    "## Part 1: Convert"
   ]
  },
  {
   "cell_type": "code",
   "execution_count": 2,
   "metadata": {},
   "outputs": [],
   "source": [
    "xmas = open(xmas_carol_text, 'r', encoding='utf-8-sig').readlines()\n",
    "df = pd.DataFrame(xmas, columns=['line_str'])\n",
    "df.index.name = 'line_num'\n",
    "df.line_str = df.line_str.str.strip()\n",
    "title = df.loc[0].line_str.replace('The Project Gutenberg EBook of ', '')\n",
    "df['title'] = title"
   ]
  },
  {
   "cell_type": "markdown",
   "metadata": {},
   "source": [
    "There are illustrations in the text, and I want to make sure to remove the captions for all the illustrations. However, there are a handful that take up multiple lines. To remove these from the corpus, I found it easier to remove these first, then continue with the rest of the data cleansing. "
   ]
  },
  {
   "cell_type": "code",
   "execution_count": 3,
   "metadata": {},
   "outputs": [
    {
     "data": {
      "text/html": [
       "<div>\n",
       "<style scoped>\n",
       "    .dataframe tbody tr th:only-of-type {\n",
       "        vertical-align: middle;\n",
       "    }\n",
       "\n",
       "    .dataframe tbody tr th {\n",
       "        vertical-align: top;\n",
       "    }\n",
       "\n",
       "    .dataframe thead th {\n",
       "        text-align: right;\n",
       "    }\n",
       "</style>\n",
       "<table border=\"1\" class=\"dataframe\">\n",
       "  <thead>\n",
       "    <tr style=\"text-align: right;\">\n",
       "      <th></th>\n",
       "      <th>line_str</th>\n",
       "      <th>title</th>\n",
       "    </tr>\n",
       "    <tr>\n",
       "      <th>line_num</th>\n",
       "      <th></th>\n",
       "      <th></th>\n",
       "    </tr>\n",
       "  </thead>\n",
       "  <tbody>\n",
       "    <tr>\n",
       "      <th>40</th>\n",
       "      <td>[Illustration: _\"How now?\" said Scrooge, caust...</td>\n",
       "      <td>A Christmas Carol, by Charles Dickens</td>\n",
       "    </tr>\n",
       "    <tr>\n",
       "      <th>570</th>\n",
       "      <td>[Illustration: _Bob Cratchit went down a slide...</td>\n",
       "      <td>A Christmas Carol, by Charles Dickens</td>\n",
       "    </tr>\n",
       "    <tr>\n",
       "      <th>669</th>\n",
       "      <td>[Illustration: _Nobody under the bed; nobody i...</td>\n",
       "      <td>A Christmas Carol, by Charles Dickens</td>\n",
       "    </tr>\n",
       "    <tr>\n",
       "      <th>971</th>\n",
       "      <td>[Illustration: _The air was filled with phanto...</td>\n",
       "      <td>A Christmas Carol, by Charles Dickens</td>\n",
       "    </tr>\n",
       "    <tr>\n",
       "      <th>1364</th>\n",
       "      <td>[Illustration: HE PRODUCED A DECANTER OF CURIO...</td>\n",
       "      <td>A Christmas Carol, by Charles Dickens</td>\n",
       "    </tr>\n",
       "    <tr>\n",
       "      <th>1463</th>\n",
       "      <td>[Illustration: _Then old Fezziwig stood out to...</td>\n",
       "      <td>A Christmas Carol, by Charles Dickens</td>\n",
       "    </tr>\n",
       "    <tr>\n",
       "      <th>2458</th>\n",
       "      <td>[Illustration: _The way he went after that plu...</td>\n",
       "      <td>A Christmas Carol, by Charles Dickens</td>\n",
       "    </tr>\n",
       "    <tr>\n",
       "      <th>2735</th>\n",
       "      <td>[Illustration:</td>\n",
       "      <td>A Christmas Carol, by Charles Dickens</td>\n",
       "    </tr>\n",
       "    <tr>\n",
       "      <th>3527</th>\n",
       "      <td>[Illustration: _\"It's I, your uncle Scrooge. I...</td>\n",
       "      <td>A Christmas Carol, by Charles Dickens</td>\n",
       "    </tr>\n",
       "    <tr>\n",
       "      <th>3581</th>\n",
       "      <td>[Illustration: _\"Now, I'll tell you what, my f...</td>\n",
       "      <td>A Christmas Carol, by Charles Dickens</td>\n",
       "    </tr>\n",
       "  </tbody>\n",
       "</table>\n",
       "</div>"
      ],
      "text/plain": [
       "                                                   line_str  \\\n",
       "line_num                                                      \n",
       "40        [Illustration: _\"How now?\" said Scrooge, caust...   \n",
       "570       [Illustration: _Bob Cratchit went down a slide...   \n",
       "669       [Illustration: _Nobody under the bed; nobody i...   \n",
       "971       [Illustration: _The air was filled with phanto...   \n",
       "1364      [Illustration: HE PRODUCED A DECANTER OF CURIO...   \n",
       "1463      [Illustration: _Then old Fezziwig stood out to...   \n",
       "2458      [Illustration: _The way he went after that plu...   \n",
       "2735                                         [Illustration:   \n",
       "3527      [Illustration: _\"It's I, your uncle Scrooge. I...   \n",
       "3581      [Illustration: _\"Now, I'll tell you what, my f...   \n",
       "\n",
       "                                          title  \n",
       "line_num                                         \n",
       "40        A Christmas Carol, by Charles Dickens  \n",
       "570       A Christmas Carol, by Charles Dickens  \n",
       "669       A Christmas Carol, by Charles Dickens  \n",
       "971       A Christmas Carol, by Charles Dickens  \n",
       "1364      A Christmas Carol, by Charles Dickens  \n",
       "1463      A Christmas Carol, by Charles Dickens  \n",
       "2458      A Christmas Carol, by Charles Dickens  \n",
       "2735      A Christmas Carol, by Charles Dickens  \n",
       "3527      A Christmas Carol, by Charles Dickens  \n",
       "3581      A Christmas Carol, by Charles Dickens  "
      ]
     },
     "execution_count": 3,
     "metadata": {},
     "output_type": "execute_result"
    }
   ],
   "source": [
    "start = df.line_str.str.match(r'\\[.*[^\\]]$')\n",
    "df.loc[start]"
   ]
  },
  {
   "cell_type": "code",
   "execution_count": 4,
   "metadata": {},
   "outputs": [
    {
     "data": {
      "text/html": [
       "<div>\n",
       "<style scoped>\n",
       "    .dataframe tbody tr th:only-of-type {\n",
       "        vertical-align: middle;\n",
       "    }\n",
       "\n",
       "    .dataframe tbody tr th {\n",
       "        vertical-align: top;\n",
       "    }\n",
       "\n",
       "    .dataframe thead th {\n",
       "        text-align: right;\n",
       "    }\n",
       "</style>\n",
       "<table border=\"1\" class=\"dataframe\">\n",
       "  <thead>\n",
       "    <tr style=\"text-align: right;\">\n",
       "      <th></th>\n",
       "      <th>line_str</th>\n",
       "      <th>title</th>\n",
       "    </tr>\n",
       "    <tr>\n",
       "      <th>line_num</th>\n",
       "      <th></th>\n",
       "      <th></th>\n",
       "    </tr>\n",
       "  </thead>\n",
       "  <tbody>\n",
       "    <tr>\n",
       "      <th>0</th>\n",
       "      <td>The Project Gutenberg EBook of A Christmas Car...</td>\n",
       "      <td>A Christmas Carol, by Charles Dickens</td>\n",
       "    </tr>\n",
       "    <tr>\n",
       "      <th>1</th>\n",
       "      <td></td>\n",
       "      <td>A Christmas Carol, by Charles Dickens</td>\n",
       "    </tr>\n",
       "    <tr>\n",
       "      <th>2</th>\n",
       "      <td>This eBook is for the use of anyone anywhere a...</td>\n",
       "      <td>A Christmas Carol, by Charles Dickens</td>\n",
       "    </tr>\n",
       "    <tr>\n",
       "      <th>3</th>\n",
       "      <td>almost no restrictions whatsoever.  You may co...</td>\n",
       "      <td>A Christmas Carol, by Charles Dickens</td>\n",
       "    </tr>\n",
       "    <tr>\n",
       "      <th>4</th>\n",
       "      <td>re-use it under the terms of the Project Guten...</td>\n",
       "      <td>A Christmas Carol, by Charles Dickens</td>\n",
       "    </tr>\n",
       "    <tr>\n",
       "      <th>...</th>\n",
       "      <td>...</td>\n",
       "      <td>...</td>\n",
       "    </tr>\n",
       "    <tr>\n",
       "      <th>3971</th>\n",
       "      <td></td>\n",
       "      <td>A Christmas Carol, by Charles Dickens</td>\n",
       "    </tr>\n",
       "    <tr>\n",
       "      <th>3972</th>\n",
       "      <td>This Web site includes information about Proje...</td>\n",
       "      <td>A Christmas Carol, by Charles Dickens</td>\n",
       "    </tr>\n",
       "    <tr>\n",
       "      <th>3973</th>\n",
       "      <td>including how to make donations to the Project...</td>\n",
       "      <td>A Christmas Carol, by Charles Dickens</td>\n",
       "    </tr>\n",
       "    <tr>\n",
       "      <th>3974</th>\n",
       "      <td>Archive Foundation, how to help produce our ne...</td>\n",
       "      <td>A Christmas Carol, by Charles Dickens</td>\n",
       "    </tr>\n",
       "    <tr>\n",
       "      <th>3975</th>\n",
       "      <td>subscribe to our email newsletter to hear abou...</td>\n",
       "      <td>A Christmas Carol, by Charles Dickens</td>\n",
       "    </tr>\n",
       "  </tbody>\n",
       "</table>\n",
       "<p>3949 rows × 2 columns</p>\n",
       "</div>"
      ],
      "text/plain": [
       "                                                   line_str  \\\n",
       "line_num                                                      \n",
       "0         The Project Gutenberg EBook of A Christmas Car...   \n",
       "1                                                             \n",
       "2         This eBook is for the use of anyone anywhere a...   \n",
       "3         almost no restrictions whatsoever.  You may co...   \n",
       "4         re-use it under the terms of the Project Guten...   \n",
       "...                                                     ...   \n",
       "3971                                                          \n",
       "3972      This Web site includes information about Proje...   \n",
       "3973      including how to make donations to the Project...   \n",
       "3974      Archive Foundation, how to help produce our ne...   \n",
       "3975      subscribe to our email newsletter to hear abou...   \n",
       "\n",
       "                                          title  \n",
       "line_num                                         \n",
       "0         A Christmas Carol, by Charles Dickens  \n",
       "1         A Christmas Carol, by Charles Dickens  \n",
       "2         A Christmas Carol, by Charles Dickens  \n",
       "3         A Christmas Carol, by Charles Dickens  \n",
       "4         A Christmas Carol, by Charles Dickens  \n",
       "...                                         ...  \n",
       "3971      A Christmas Carol, by Charles Dickens  \n",
       "3972      A Christmas Carol, by Charles Dickens  \n",
       "3973      A Christmas Carol, by Charles Dickens  \n",
       "3974      A Christmas Carol, by Charles Dickens  \n",
       "3975      A Christmas Carol, by Charles Dickens  \n",
       "\n",
       "[3949 rows x 2 columns]"
      ]
     },
     "execution_count": 4,
     "metadata": {},
     "output_type": "execute_result"
    }
   ],
   "source": [
    "big_quotes = []\n",
    "for index, row in df.loc[start].iterrows():\n",
    "    big_quotes.append(index)\n",
    "    end = 1\n",
    "    while end != -1: \n",
    "        #Continue to iterate through each line of the dataframe until the illustration is over, which is marked with the ']' character. \n",
    "        # Keep track of each line included, all of these need to be removed. \n",
    "        big_quotes.append(index+end)\n",
    "        if re.search('\\]', df.iloc[index+end]['line_str']):\n",
    "            end = -1\n",
    "        else:\n",
    "            end = end+1\n",
    "df.drop(big_quotes, axis=0, inplace=True)\n",
    "df"
   ]
  },
  {
   "cell_type": "code",
   "execution_count": 5,
   "metadata": {},
   "outputs": [],
   "source": [
    "a = df.line_str.str.match(r\"\\*\\*\\*\\s*START OF (THE|THIS) PROJECT\")\n",
    "b = df.line_str.str.match(r\"\\*\\*\\*\\s*END OF (THE|THIS) PROJECT\")\n",
    "an = df.loc[a].index[0]\n",
    "bn = df.loc[b].index[0]\n",
    "df = df.loc[an + 1 : bn - 2]"
   ]
  },
  {
   "cell_type": "markdown",
   "metadata": {},
   "source": [
    "What is a Stave? \n",
    "\n",
    "\n",
    "\"This is an unusual structure that mimics the way a musical piece is put together. The Staves follow the action of the story with the first stave setting the scene, the middle stave showing the turning point for Scrooge and the final stave concluding the story by presenting him as a changed man.\" -https://www.bbc.co.uk/bitesize/guides/zqxp4j6/revision/2\n"
   ]
  },
  {
   "cell_type": "code",
   "execution_count": 6,
   "metadata": {},
   "outputs": [
    {
     "name": "stderr",
     "output_type": "stream",
     "text": [
      "C:\\Users\\laure\\AppData\\Local\\Packages\\PythonSoftwareFoundation.Python.3.8_qbz5n2kfra8p0\\LocalCache\\local-packages\\Python38\\site-packages\\pandas\\core\\indexing.py:1684: SettingWithCopyWarning: \n",
      "A value is trying to be set on a copy of a slice from a DataFrame.\n",
      "Try using .loc[row_indexer,col_indexer] = value instead\n",
      "\n",
      "See the caveats in the documentation: https://pandas.pydata.org/pandas-docs/stable/user_guide/indexing.html#returning-a-view-versus-a-copy\n",
      "  self.obj[key] = infer_fill_value(value)\n",
      "C:\\Users\\laure\\AppData\\Local\\Packages\\PythonSoftwareFoundation.Python.3.8_qbz5n2kfra8p0\\LocalCache\\local-packages\\Python38\\site-packages\\pandas\\core\\indexing.py:1773: SettingWithCopyWarning: \n",
      "A value is trying to be set on a copy of a slice from a DataFrame.\n",
      "Try using .loc[row_indexer,col_indexer] = value instead\n",
      "\n",
      "See the caveats in the documentation: https://pandas.pydata.org/pandas-docs/stable/user_guide/indexing.html#returning-a-view-versus-a-copy\n",
      "  self._setitem_single_column(ilocs[0], value, pi)\n",
      "C:\\Users\\laure\\AppData\\Local\\Packages\\PythonSoftwareFoundation.Python.3.8_qbz5n2kfra8p0\\LocalCache\\local-packages\\Python38\\site-packages\\pandas\\core\\generic.py:5516: SettingWithCopyWarning: \n",
      "A value is trying to be set on a copy of a slice from a DataFrame.\n",
      "Try using .loc[row_indexer,col_indexer] = value instead\n",
      "\n",
      "See the caveats in the documentation: https://pandas.pydata.org/pandas-docs/stable/user_guide/indexing.html#returning-a-view-versus-a-copy\n",
      "  self[name] = value\n"
     ]
    }
   ],
   "source": [
    "chap_lines = df.line_str.str.match(r\"^\\s*(STAVE )(ONE|TWO|THREE|FOUR|FIVE)(?!—)\", case=False)\n",
    "df.loc[chap_lines]\n",
    "\n",
    "#Remove everything before STAVE ONE\n",
    "chap_nums = [i+1 for i in range(df.loc[chap_lines].shape[0])]\n",
    "df.loc[chap_lines, 'chap_num'] = chap_nums\n",
    "df.chap_num = df.chap_num.ffill()\n",
    "#Remove all lines containing [Illustration]\n"
   ]
  },
  {
   "cell_type": "code",
   "execution_count": 7,
   "metadata": {},
   "outputs": [],
   "source": [
    "df = df.loc[~df.chap_num.isna()] # Remove chapter heading lines\n",
    "df = df.loc[~chap_lines] # Remove everything before Chapter 1\n",
    "df.chap_num = df.chap_num.astype('int') # Convert chap_num from float to int\n",
    "\n",
    "illustration_phrase =  df.line_str.str.match(r'\\[Illustration:?.*| ?.*\\]')\n",
    " #Remove all lines containing [Illustration]\n",
    "df = df.loc[~illustration_phrase]"
   ]
  },
  {
   "cell_type": "code",
   "execution_count": 8,
   "metadata": {},
   "outputs": [],
   "source": [
    "dfc = df.groupby(OHCO[:2]).line_str.apply(lambda x: '\\n'.join(x)).to_frame() # Make big string"
   ]
  },
  {
   "cell_type": "code",
   "execution_count": 9,
   "metadata": {},
   "outputs": [
    {
     "name": "stderr",
     "output_type": "stream",
     "text": [
      "C:\\Users\\laure\\AppData\\Local\\Temp/ipykernel_24644/4088490130.py:5: FutureWarning: The default value of regex will change from True to False in a future version.\n",
      "  dfp['para_str'] = dfp['para_str'].str.replace(r'\\n', ' ').str.strip()\n"
     ]
    }
   ],
   "source": [
    "dfp = dfc['line_str'].str.split(r'\\n\\n+', expand=True).stack()\\\n",
    "    .to_frame().rename(columns={0:'para_str'})\n",
    "dfp.index.names = OHCO[:3]\n",
    "\n",
    "dfp['para_str'] = dfp['para_str'].str.replace(r'\\n', ' ').str.strip()\n",
    "dfp = dfp[~dfp['para_str'].str.match(r'^\\s*$')] # Remove empty paragraphs"
   ]
  },
  {
   "cell_type": "code",
   "execution_count": 17,
   "metadata": {},
   "outputs": [],
   "source": [
    "TOKEN = tokenize(dfp, ws=False)"
   ]
  },
  {
   "cell_type": "code",
   "execution_count": 13,
   "metadata": {},
   "outputs": [],
   "source": [
    "dfs = dfp['para_str'].str.split(r'[.?!;:\"]+', expand=True).stack()\\\n",
    "    .to_frame().rename(columns={0:'sent_str'})\n",
    "\n",
    "dfs.index.names = OHCO[:4]\n",
    "\n",
    "dfs = dfs[~dfs['sent_str'].str.match(r'^\\s*$')] # Remove empty paragraphs"
   ]
  },
  {
   "cell_type": "code",
   "execution_count": 44,
   "metadata": {},
   "outputs": [],
   "source": [
    "dft = dfs['sent_str'].str.split(r\"[\\s',-]+\", expand=True).stack()\\\n",
    "    .to_frame().rename(columns={0:'token_str'})\n",
    "    \n",
    "dft.index.names = OHCO[:5]\n",
    "dft"
   ]
  },
  {
   "cell_type": "markdown",
   "metadata": {},
   "source": [
    "## Part 2: Annotate"
   ]
  },
  {
   "cell_type": "code",
   "execution_count": 19,
   "metadata": {},
   "outputs": [],
   "source": [
    "def tokenize(doc_df, OHCO=OHCO, remove_pos_tuple=False, ws=False):\n",
    "    \n",
    "    # Paragraphs to Sentences\n",
    "    df = doc_df.para_str\\\n",
    "        .apply(lambda x: pd.Series(nltk.sent_tokenize(x)))\\\n",
    "        .stack()\\\n",
    "        .to_frame()\\\n",
    "        .rename(columns={0:'sent_str'})\n",
    "    \n",
    "    # Sentences to Tokens\n",
    "    # Local function to pick tokenizer\n",
    "    def word_tokenize(x):\n",
    "        if ws:\n",
    "            s = pd.Series(nltk.pos_tag(nltk.WhitespaceTokenizer().tokenize(x)))\n",
    "        else:\n",
    "            s = pd.Series(nltk.pos_tag(nltk.word_tokenize(x))) # Discards stuff in between\n",
    "        return s\n",
    "            \n",
    "    df = df.sent_str\\\n",
    "        .apply(word_tokenize)\\\n",
    "        .stack()\\\n",
    "        .to_frame()\\\n",
    "        .rename(columns={0:'pos_tuple'})\n",
    "    \n",
    "    # Grab info from tuple\n",
    "    df['pos'] = df.pos_tuple.apply(lambda x: x[1])\n",
    "    df['token_str'] = df.pos_tuple.apply(lambda x: x[0])\n",
    "    if remove_pos_tuple:\n",
    "        df = df.drop('pos_tuple', 1)\n",
    "    \n",
    "    # Add index\n",
    "    df.index.names = OHCO\n",
    "    \n",
    "    return df"
   ]
  },
  {
   "cell_type": "code",
   "execution_count": 21,
   "metadata": {},
   "outputs": [],
   "source": [
    "TOKEN = tokenize(dfp, ws=False)"
   ]
  },
  {
   "cell_type": "code",
   "execution_count": 23,
   "metadata": {},
   "outputs": [
    {
     "name": "stderr",
     "output_type": "stream",
     "text": [
      "C:\\Users\\laure\\AppData\\Local\\Temp/ipykernel_24644/2045287459.py:1: FutureWarning: The default value of regex will change from True to False in a future version.\n",
      "  TOKEN['term_str'] = TOKEN['token_str'].str.lower().str.replace('[\\W_]', '')\n"
     ]
    }
   ],
   "source": [
    "TOKEN['term_str'] = TOKEN['token_str'].str.lower().str.replace('[\\W_]', '')\n"
   ]
  },
  {
   "cell_type": "code",
   "execution_count": 24,
   "metadata": {},
   "outputs": [],
   "source": [
    "VOCAB = TOKEN.term_str.value_counts().to_frame()\\\n",
    "    .rename(columns={'index':'term_str', 'term_str':'n'})\\\n",
    "    .sort_index().reset_index().rename(columns={'index':'term_str'})\n",
    "VOCAB.index.name = 'term_id'\n",
    "VOCAB['num'] = VOCAB.term_str.str.match(\"\\d+\").astype('int')\n",
    "sw = pd.DataFrame(nltk.corpus.stopwords.words('english'), columns=['term_str'])\n",
    "sw = sw.reset_index().set_index('term_str')\n",
    "sw.columns = ['dummy']\n",
    "sw.dummy = 1"
   ]
  },
  {
   "cell_type": "code",
   "execution_count": 25,
   "metadata": {},
   "outputs": [
    {
     "data": {
      "text/html": [
       "<div>\n",
       "<style scoped>\n",
       "    .dataframe tbody tr th:only-of-type {\n",
       "        vertical-align: middle;\n",
       "    }\n",
       "\n",
       "    .dataframe tbody tr th {\n",
       "        vertical-align: top;\n",
       "    }\n",
       "\n",
       "    .dataframe thead th {\n",
       "        text-align: right;\n",
       "    }\n",
       "</style>\n",
       "<table border=\"1\" class=\"dataframe\">\n",
       "  <thead>\n",
       "    <tr style=\"text-align: right;\">\n",
       "      <th></th>\n",
       "      <th>term_str</th>\n",
       "      <th>n</th>\n",
       "      <th>num</th>\n",
       "      <th>stop</th>\n",
       "    </tr>\n",
       "    <tr>\n",
       "      <th>term_id</th>\n",
       "      <th></th>\n",
       "      <th></th>\n",
       "      <th></th>\n",
       "      <th></th>\n",
       "    </tr>\n",
       "  </thead>\n",
       "  <tbody>\n",
       "    <tr>\n",
       "      <th>3978</th>\n",
       "      <td>under</td>\n",
       "      <td>7</td>\n",
       "      <td>0</td>\n",
       "      <td>1</td>\n",
       "    </tr>\n",
       "    <tr>\n",
       "      <th>4178</th>\n",
       "      <td>which</td>\n",
       "      <td>98</td>\n",
       "      <td>0</td>\n",
       "      <td>1</td>\n",
       "    </tr>\n",
       "    <tr>\n",
       "      <th>3784</th>\n",
       "      <td>that</td>\n",
       "      <td>349</td>\n",
       "      <td>0</td>\n",
       "      <td>1</td>\n",
       "    </tr>\n",
       "    <tr>\n",
       "      <th>2328</th>\n",
       "      <td>me</td>\n",
       "      <td>110</td>\n",
       "      <td>0</td>\n",
       "      <td>1</td>\n",
       "    </tr>\n",
       "    <tr>\n",
       "      <th>2578</th>\n",
       "      <td>on</td>\n",
       "      <td>164</td>\n",
       "      <td>0</td>\n",
       "      <td>1</td>\n",
       "    </tr>\n",
       "    <tr>\n",
       "      <th>4136</th>\n",
       "      <td>we</td>\n",
       "      <td>36</td>\n",
       "      <td>0</td>\n",
       "      <td>1</td>\n",
       "    </tr>\n",
       "    <tr>\n",
       "      <th>4302</th>\n",
       "      <td>you</td>\n",
       "      <td>244</td>\n",
       "      <td>0</td>\n",
       "      <td>1</td>\n",
       "    </tr>\n",
       "    <tr>\n",
       "      <th>1139</th>\n",
       "      <td>during</td>\n",
       "      <td>2</td>\n",
       "      <td>0</td>\n",
       "      <td>1</td>\n",
       "    </tr>\n",
       "    <tr>\n",
       "      <th>2289</th>\n",
       "      <td>m</td>\n",
       "      <td>7</td>\n",
       "      <td>0</td>\n",
       "      <td>1</td>\n",
       "    </tr>\n",
       "    <tr>\n",
       "      <th>4231</th>\n",
       "      <td>with</td>\n",
       "      <td>265</td>\n",
       "      <td>0</td>\n",
       "      <td>1</td>\n",
       "    </tr>\n",
       "  </tbody>\n",
       "</table>\n",
       "</div>"
      ],
      "text/plain": [
       "        term_str    n  num  stop\n",
       "term_id                         \n",
       "3978       under    7    0     1\n",
       "4178       which   98    0     1\n",
       "3784        that  349    0     1\n",
       "2328          me  110    0     1\n",
       "2578          on  164    0     1\n",
       "4136          we   36    0     1\n",
       "4302         you  244    0     1\n",
       "1139      during    2    0     1\n",
       "2289           m    7    0     1\n",
       "4231        with  265    0     1"
      ]
     },
     "execution_count": 25,
     "metadata": {},
     "output_type": "execute_result"
    }
   ],
   "source": [
    "VOCAB['stop'] = VOCAB.term_str.map(sw.dummy)\n",
    "VOCAB['stop'] = VOCAB['stop'].fillna(0).astype('int')\n",
    "VOCAB[VOCAB.stop == 1].sample(10)\n"
   ]
  },
  {
   "cell_type": "code",
   "execution_count": 26,
   "metadata": {},
   "outputs": [],
   "source": [
    "from nltk.stem.porter import PorterStemmer\n",
    "stemmer1 = PorterStemmer()\n",
    "VOCAB['stem_porter'] = VOCAB.term_str.apply(stemmer1.stem)\n",
    "\n",
    "from nltk.stem.snowball import SnowballStemmer\n",
    "stemmer2 = SnowballStemmer(\"english\")\n",
    "VOCAB['stem_snowball'] = VOCAB.term_str.apply(stemmer2.stem)\n",
    "\n",
    "from nltk.stem.lancaster import LancasterStemmer\n",
    "stemmer3 = LancasterStemmer()\n",
    "VOCAB['stem_lancaster'] = VOCAB.term_str.apply(stemmer3.stem)"
   ]
  },
  {
   "cell_type": "code",
   "execution_count": 27,
   "metadata": {},
   "outputs": [],
   "source": [
    "def get_POS_Count(row):\n",
    "    term = row['term_str']\n",
    "\n",
    "    return TOKEN[TOKEN['term_str']== term].value_counts('pos').idxmax() \n"
   ]
  },
  {
   "cell_type": "code",
   "execution_count": 28,
   "metadata": {},
   "outputs": [],
   "source": [
    "VOCAB['pos_max'] = VOCAB.apply(get_POS_Count, axis=1)"
   ]
  },
  {
   "cell_type": "code",
   "execution_count": 29,
   "metadata": {},
   "outputs": [
    {
     "data": {
      "text/html": [
       "<div>\n",
       "<style scoped>\n",
       "    .dataframe tbody tr th:only-of-type {\n",
       "        vertical-align: middle;\n",
       "    }\n",
       "\n",
       "    .dataframe tbody tr th {\n",
       "        vertical-align: top;\n",
       "    }\n",
       "\n",
       "    .dataframe thead th {\n",
       "        text-align: right;\n",
       "    }\n",
       "</style>\n",
       "<table border=\"1\" class=\"dataframe\">\n",
       "  <thead>\n",
       "    <tr style=\"text-align: right;\">\n",
       "      <th></th>\n",
       "      <th>term_str</th>\n",
       "      <th>n</th>\n",
       "      <th>num</th>\n",
       "      <th>stop</th>\n",
       "      <th>stem_porter</th>\n",
       "      <th>stem_snowball</th>\n",
       "      <th>stem_lancaster</th>\n",
       "      <th>pos_max</th>\n",
       "    </tr>\n",
       "    <tr>\n",
       "      <th>term_id</th>\n",
       "      <th></th>\n",
       "      <th></th>\n",
       "      <th></th>\n",
       "      <th></th>\n",
       "      <th></th>\n",
       "      <th></th>\n",
       "      <th></th>\n",
       "      <th></th>\n",
       "    </tr>\n",
       "  </thead>\n",
       "  <tbody>\n",
       "    <tr>\n",
       "      <th>4190</th>\n",
       "      <td>whomsoever</td>\n",
       "      <td>1</td>\n",
       "      <td>0</td>\n",
       "      <td>0</td>\n",
       "      <td>whomsoev</td>\n",
       "      <td>whomsoev</td>\n",
       "      <td>whomsoev</td>\n",
       "      <td>VB</td>\n",
       "    </tr>\n",
       "    <tr>\n",
       "      <th>187</th>\n",
       "      <td>assured</td>\n",
       "      <td>1</td>\n",
       "      <td>0</td>\n",
       "      <td>0</td>\n",
       "      <td>assur</td>\n",
       "      <td>assur</td>\n",
       "      <td>ass</td>\n",
       "      <td>VBD</td>\n",
       "    </tr>\n",
       "    <tr>\n",
       "      <th>4006</th>\n",
       "      <td>unlike</td>\n",
       "      <td>2</td>\n",
       "      <td>0</td>\n",
       "      <td>0</td>\n",
       "      <td>unlik</td>\n",
       "      <td>unlik</td>\n",
       "      <td>unlik</td>\n",
       "      <td>IN</td>\n",
       "    </tr>\n",
       "    <tr>\n",
       "      <th>3569</th>\n",
       "      <td>stand</td>\n",
       "      <td>3</td>\n",
       "      <td>0</td>\n",
       "      <td>0</td>\n",
       "      <td>stand</td>\n",
       "      <td>stand</td>\n",
       "      <td>stand</td>\n",
       "      <td>VB</td>\n",
       "    </tr>\n",
       "    <tr>\n",
       "      <th>2912</th>\n",
       "      <td>public</td>\n",
       "      <td>1</td>\n",
       "      <td>0</td>\n",
       "      <td>0</td>\n",
       "      <td>public</td>\n",
       "      <td>public</td>\n",
       "      <td>publ</td>\n",
       "      <td>JJ</td>\n",
       "    </tr>\n",
       "    <tr>\n",
       "      <th>1999</th>\n",
       "      <td>instance</td>\n",
       "      <td>1</td>\n",
       "      <td>0</td>\n",
       "      <td>0</td>\n",
       "      <td>instanc</td>\n",
       "      <td>instanc</td>\n",
       "      <td>inst</td>\n",
       "      <td>NN</td>\n",
       "    </tr>\n",
       "    <tr>\n",
       "      <th>3265</th>\n",
       "      <td>sensible</td>\n",
       "      <td>2</td>\n",
       "      <td>0</td>\n",
       "      <td>0</td>\n",
       "      <td>sensibl</td>\n",
       "      <td>sensibl</td>\n",
       "      <td>sens</td>\n",
       "      <td>JJ</td>\n",
       "    </tr>\n",
       "    <tr>\n",
       "      <th>3182</th>\n",
       "      <td>sank</td>\n",
       "      <td>2</td>\n",
       "      <td>0</td>\n",
       "      <td>0</td>\n",
       "      <td>sank</td>\n",
       "      <td>sank</td>\n",
       "      <td>sank</td>\n",
       "      <td>NN</td>\n",
       "    </tr>\n",
       "    <tr>\n",
       "      <th>3050</th>\n",
       "      <td>remember</td>\n",
       "      <td>5</td>\n",
       "      <td>0</td>\n",
       "      <td>0</td>\n",
       "      <td>rememb</td>\n",
       "      <td>rememb</td>\n",
       "      <td>rememb</td>\n",
       "      <td>VB</td>\n",
       "    </tr>\n",
       "    <tr>\n",
       "      <th>3026</th>\n",
       "      <td>refuse</td>\n",
       "      <td>1</td>\n",
       "      <td>0</td>\n",
       "      <td>0</td>\n",
       "      <td>refus</td>\n",
       "      <td>refus</td>\n",
       "      <td>refus</td>\n",
       "      <td>VB</td>\n",
       "    </tr>\n",
       "  </tbody>\n",
       "</table>\n",
       "</div>"
      ],
      "text/plain": [
       "           term_str  n  num  stop stem_porter stem_snowball stem_lancaster  \\\n",
       "term_id                                                                      \n",
       "4190     whomsoever  1    0     0    whomsoev      whomsoev       whomsoev   \n",
       "187         assured  1    0     0       assur         assur            ass   \n",
       "4006         unlike  2    0     0       unlik         unlik          unlik   \n",
       "3569          stand  3    0     0       stand         stand          stand   \n",
       "2912         public  1    0     0      public        public           publ   \n",
       "1999       instance  1    0     0     instanc       instanc           inst   \n",
       "3265       sensible  2    0     0     sensibl       sensibl           sens   \n",
       "3182           sank  2    0     0        sank          sank           sank   \n",
       "3050       remember  5    0     0      rememb        rememb         rememb   \n",
       "3026         refuse  1    0     0       refus         refus          refus   \n",
       "\n",
       "        pos_max  \n",
       "term_id          \n",
       "4190         VB  \n",
       "187         VBD  \n",
       "4006         IN  \n",
       "3569         VB  \n",
       "2912         JJ  \n",
       "1999         NN  \n",
       "3265         JJ  \n",
       "3182         NN  \n",
       "3050         VB  \n",
       "3026         VB  "
      ]
     },
     "execution_count": 29,
     "metadata": {},
     "output_type": "execute_result"
    }
   ],
   "source": [
    "VOCAB.sample(10)"
   ]
  },
  {
   "cell_type": "markdown",
   "metadata": {},
   "source": [
    "## Part 3: Create"
   ]
  },
  {
   "cell_type": "code",
   "execution_count": 30,
   "metadata": {},
   "outputs": [],
   "source": [
    "count_method = 'n' # 'c' or 'n' # n = n tokens, c = distinct token (term) count\n",
    "tf_method = 'sum' # sum, max, log, double_norm, raw, binary\n",
    "tf_norm_k = .5 # only used for double_norm\n",
    "idf_method = 'standard' # standard, max, smooth\n",
    "gradient_cmap = 'YlGnBu' # YlGn, GnBu, YlGnBu; For tables; see https://matplotlib.org/3.1.0/tutorials/colors/colormaps.html "
   ]
  },
  {
   "cell_type": "code",
   "execution_count": 31,
   "metadata": {},
   "outputs": [],
   "source": [
    "SENTS = OHCO[:4]\n",
    "PARAS = OHCO[:3]\n",
    "CHAPS = OHCO[:2]\n",
    "BOOKS = OHCO[:1]"
   ]
  },
  {
   "cell_type": "code",
   "execution_count": 35,
   "metadata": {},
   "outputs": [],
   "source": [
    "TOKEN['term_id'] = TOKEN.term_str.map(VOCAB.reset_index().set_index('term_str').term_id)"
   ]
  },
  {
   "cell_type": "markdown",
   "metadata": {},
   "source": [
    "## Part 4: Extend"
   ]
  },
  {
   "cell_type": "markdown",
   "metadata": {},
   "source": [
    "## Part 5: Present"
   ]
  }
 ],
 "metadata": {
  "kernelspec": {
   "display_name": "Python 3.8.10 64-bit (microsoft store)",
   "language": "python",
   "name": "python3"
  },
  "language_info": {
   "codemirror_mode": {
    "name": "ipython",
    "version": 3
   },
   "file_extension": ".py",
   "mimetype": "text/x-python",
   "name": "python",
   "nbconvert_exporter": "python",
   "pygments_lexer": "ipython3",
   "version": "3.8.10"
  },
  "orig_nbformat": 4,
  "vscode": {
   "interpreter": {
    "hash": "619226f811c1a3cf24b57725644a3f9927ee4a52cb448157cb29be04a2ef885e"
   }
  }
 },
 "nbformat": 4,
 "nbformat_minor": 2
}
